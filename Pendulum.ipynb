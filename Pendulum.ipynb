{
 "cells": [
  {
   "cell_type": "code",
   "execution_count": 1,
   "id": "c63865e5",
   "metadata": {},
   "outputs": [],
   "source": [
    "import numpy as np\n",
    "import pandas as pd\n",
    "import matplotlib.pyplot as plt\n",
    "from sklearn.linear_model import LinearRegression\n",
    "from iminuit import Minuit    \n",
    "from scipy import stats\n",
    "import seaborn as sns\n",
    "sns.set()\n",
    "sns.set_palette(\"husl\",8)\n",
    "\n",
    "import sys\n",
    "sys.path.append('../../External_Functions')\n",
    "from ExternalFunctions import Chi2Regression, BinnedLH, UnbinnedLH\n",
    "from ExternalFunctions import nice_string_output, add_text_to_ax"
   ]
  },
  {
   "cell_type": "markdown",
   "id": "8ef5b0bd",
   "metadata": {},
   "source": [
    "# Define functions"
   ]
  },
  {
   "cell_type": "code",
   "execution_count": 2,
   "id": "5e54e79c",
   "metadata": {},
   "outputs": [],
   "source": [
    "\"\"\"Function for linear plot\"\"\"\n",
    "\n",
    "def lin_func(x,a,b):\n",
    "    return a*x+b"
   ]
  },
  {
   "cell_type": "code",
   "execution_count": 3,
   "id": "4d365d95",
   "metadata": {},
   "outputs": [],
   "source": [
    "\"\"\"Function for Gaussian pdf\"\"\"\n",
    "\n",
    "def gauss_pdf(x, N, mu, sigma):\n",
    "    return N / np.sqrt(2 * np.pi) / sigma * np.exp(-(x - mu) ** 2 / 2. / sigma ** 2)"
   ]
  },
  {
   "cell_type": "code",
   "execution_count": 4,
   "id": "dbd22e0b",
   "metadata": {},
   "outputs": [],
   "source": [
    "\"\"\"Function to compute binwidth for histograms from Freedman-Diaconis rule\"\"\"\n",
    "\n",
    "def bin_width(data):\n",
    "    return 2*stats.iqr(data)*len(data)**(-1/3)"
   ]
  },
  {
   "cell_type": "code",
   "execution_count": 5,
   "id": "55e36e61",
   "metadata": {},
   "outputs": [],
   "source": [
    "\"\"\"Function to compute root mean square deviation\"\"\"\n",
    "\n",
    "def RMSD(data):\n",
    "    return np.sqrt(np.sum((data-data.mean())**2)/(len(data)-1))"
   ]
  },
  {
   "cell_type": "code",
   "execution_count": 6,
   "id": "c736ec36",
   "metadata": {},
   "outputs": [],
   "source": [
    "\"\"\"Function to compute chi2 and p value\"\"\"\n",
    "\n",
    "def chi2(data, exp, errors):\n",
    "    chi_2 = np.sum(((data-exp)/errors)**2)\n",
    "    dof = len(data)\n",
    "    p = 1 - stats.chi2.cdf(chi_2, dof)\n",
    "    return chi_2, p"
   ]
  },
  {
   "cell_type": "code",
   "execution_count": 7,
   "id": "d05ff9e2",
   "metadata": {},
   "outputs": [],
   "source": [
    "\"\"\"Function to perform weighted average\"\"\"\n",
    "\n",
    "def weighted_average(data, errors):\n",
    "    avg = np.sum(data/errors**2)/np.sum(1/errors**2)\n",
    "    err = np.sqrt(1/np.sum(1/errors**2))\n",
    "    exp = avg*np.ones(len(data))\n",
    "    chi_2, p = chi2(data, exp, errors)\n",
    "    return avg, err, chi_2, p"
   ]
  },
  {
   "cell_type": "code",
   "execution_count": 8,
   "id": "d198742e",
   "metadata": {},
   "outputs": [],
   "source": [
    "\"\"\"Function to fit residuals to a Gaussian\"\"\"\n",
    "\n",
    "def fit_residuals(data, minL, maxL, plot=bool):\n",
    "    binwidth = bin_width(data)\n",
    "    Nbins = round((maxL-minL)/binwidth)\n",
    "\n",
    "    ullh = UnbinnedLH(gauss_pdf, data, extended=True)\n",
    "    minuit = Minuit(ullh, N=len(data)*binwidth, mu=data.mean(), sigma=data.std(ddof=1))\n",
    "    minuit.print_level = 1\n",
    "    minuit.errordef = 0.5\n",
    "    minuit.migrad();\n",
    "    \n",
    "    chi2_val = minuit.fval\n",
    "    N_DOF = len(data) - len(minuit.values[:])\n",
    "    chi2_prob = stats.chi2.sf(chi2_val, N_DOF)\n",
    "\n",
    "    fit_sigma = minuit.values[\"sigma\"]\n",
    "    fit_mu = minuit.values[\"mu\"]\n",
    "    fit_mu_error = minuit.errors[\"mu\"]\n",
    "    \n",
    "    if plot:\n",
    "        d = {'mu:': [fit_mu, fit_mu_error], 'sigma:':fit_sigma}\n",
    "        text = nice_string_output(d, extra_spacing=2, decimals=3)\n",
    "\n",
    "        xaxis = np.linspace(minL, maxL, 10000) \n",
    "        yaxis = gauss_pdf(xaxis, len(data)*binwidth, fit_mu, fit_sigma) \n",
    "\n",
    "        fig, ax = plt.subplots(figsize=(8,5))\n",
    "        ax.hist(data, bins=Nbins, range=(minL, maxL), histtype='stepfilled', label='Data');\n",
    "        ax.plot(xaxis, yaxis, '-', label='Fit by Minuit')\n",
    "        add_text_to_ax(0.62, 0.95, text, ax, fontsize=12)\n",
    "        ax.legend(loc='upper left')\n",
    "        fig.tight_layout()\n",
    "    \n",
    "#     return fit_sigma, chi2_val, chi2_prob\n",
    "    return fit_sigma"
   ]
  },
  {
   "cell_type": "code",
   "execution_count": 9,
   "id": "39ca26fd",
   "metadata": {},
   "outputs": [],
   "source": [
    "\"\"\"Function to fit time data with uncertainty from time residuals\"\"\"\n",
    "\n",
    "def fit_linear(x, y, y_err, a_init, b_init, plot=bool):\n",
    "    chi2_object = Chi2Regression(lin_func, x, y, y_err)\n",
    "    chi2_object.errordef = Minuit.LEAST_SQUARES\n",
    "    minuit = Minuit(chi2_object, a=a_init, b=b_init)\n",
    "    minuit.migrad();\n",
    "    a, b = minuit.values[:]\n",
    "\n",
    "    chi2_val = minuit.fval\n",
    "    N_DOF = len(x) - len(minuit.values[:])\n",
    "    chi2_prob = stats.chi2.sf(chi2_val, N_DOF)\n",
    "    \n",
    "    if plot:\n",
    "        x_fit = np.linspace(0, 30, 1000)\n",
    "        y_fit = lin_func(x_fit, a, b)\n",
    "\n",
    "        d = {'Entries':  len(x),\n",
    "         'Chi2':     chi2_val,\n",
    "         'ndf':      N_DOF,\n",
    "         'Prob':     chi2_prob}\n",
    "\n",
    "        #add fit parameters to text box\n",
    "        for name in minuit.parameters:\n",
    "            d[name] = [minuit.values[name], minuit.errors[name]]\n",
    "\n",
    "        text = nice_string_output(d, extra_spacing=2, decimals=3)\n",
    "\n",
    "        fig, ax = plt.subplots(figsize=(8, 5))\n",
    "        ax.errorbar(x, y, yerr=y_err, fmt='ko', label = 'Data')\n",
    "        ax.plot(x_fit, y_fit, '-', label='Fit by Minuit')\n",
    "        ax.set(title=\"Linear fit by Minuit\", \n",
    "            xlabel=\"Index\", \n",
    "            ylabel=\"Time (s)\");\n",
    "        add_text_to_ax(0.02, 0.95, text, ax, fontsize=12)\n",
    "        ax.legend(loc='lower right')\n",
    "        fig.tight_layout()\n",
    "        \n",
    "    return minuit.values['a'], minuit.errors['a'], chi2_val, chi2_prob"
   ]
  },
  {
   "cell_type": "markdown",
   "id": "bd0d64e0",
   "metadata": {},
   "source": [
    "# Treating and plotting the data (example)"
   ]
  },
  {
   "cell_type": "code",
   "execution_count": 10,
   "id": "c3d07a0e",
   "metadata": {},
   "outputs": [],
   "source": [
    "#import data\n",
    "amalie = np.genfromtxt('amalie.dat', delimiter='\\t', names=('n', 't_s'))\n",
    "n, t = amalie['n'][1:-1], amalie['t_s'][1:-1]"
   ]
  },
  {
   "cell_type": "code",
   "execution_count": 11,
   "id": "58b6c522",
   "metadata": {},
   "outputs": [
    {
     "data": {
      "image/png": "[encoded data removed]",
      "text/plain": [
       "<Figure size 576x360 with 1 Axes>"
      ]
     },
     "metadata": {},
     "output_type": "display_data"
    }
   ],
   "source": [
    "#plot data with initial fit\n",
    "reg = LinearRegression().fit(n.reshape(-1,1),t.reshape(-1,1))\n",
    "fit_times = (n*reg.coef_+reg.intercept_).reshape(len(n),) \n",
    "\n",
    "d = {'slope:': reg.coef_[0,0], 'intercept:':reg.intercept_[0]}\n",
    "text = nice_string_output(d, extra_spacing=2, decimals=3)\n",
    "\n",
    "fig, ax = plt.subplots(figsize=(8,5))\n",
    "ax.plot(n,t,'bo-', label='Data')\n",
    "ax.plot(n,fit_times,'r.--', label='Fit')\n",
    "add_text_to_ax(0.03, 0.95, text, ax, fontsize=13)\n",
    "ax.legend(loc='center left')\n",
    "ax.set_xlabel('Index')\n",
    "ax.set_ylabel('Time (s)')\n",
    "ax.set_title('Initial fit (Example)');"
   ]
  },
  {
   "cell_type": "code",
   "execution_count": 12,
   "id": "0257d3b6",
   "metadata": {},
   "outputs": [
    {
     "data": {
      "image/png": "[encoded data removed]",
      "text/plain": [
       "<Figure size 576x360 with 1 Axes>"
      ]
     },
     "metadata": {},
     "output_type": "display_data"
    }
   ],
   "source": [
    "#compute residuals and fit to Gaussian\n",
    "res = t-fit_times\n",
    "# sigma, res_chi2, res_p = fit_residuals(res, -0.2, 0.2, plot=True)\n",
    "sigma = fit_residuals(res, -0.2, 0.2, plot=True)"
   ]
  },
  {
   "cell_type": "code",
   "execution_count": 13,
   "id": "33b80735",
   "metadata": {},
   "outputs": [
    {
     "data": {
      "image/png": "[encoded data removed]",
      "text/plain": [
       "<Figure size 576x360 with 1 Axes>"
      ]
     },
     "metadata": {},
     "output_type": "display_data"
    }
   ],
   "source": [
    "#linear fit with input error from residual fit\n",
    "a_init, b_init = reg.coef_[0,0], reg.intercept_[0]\n",
    "t_err = np.ones(len(t))*sigma\n",
    "slope, slope_err, slope_chi2, slope_p = fit_linear(n, t, t_err, a_init, b_init, plot=True)"
   ]
  },
  {
   "cell_type": "markdown",
   "id": "5dbae0dc",
   "metadata": {},
   "source": [
    "# Get period from all 5 measurements"
   ]
  },
  {
   "cell_type": "code",
   "execution_count": 14,
   "id": "c0dc5bac",
   "metadata": {},
   "outputs": [
    {
     "name": "stdout",
     "output_type": "stream",
     "text": [
      "W VariableMetricBuilder No improvement in line search\n"
     ]
    }
   ],
   "source": [
    "#treat all 5 data sets\n",
    "period = []\n",
    "period_err = []\n",
    "period_chi2 = []\n",
    "period_p = []\n",
    "sigmas = []\n",
    "residuals = []\n",
    "names = ['amalie', 'soren', 'sara', 'lukas', 'elloise']\n",
    "\n",
    "for name in names:\n",
    "    file_name = name+'.dat'\n",
    "    file = np.genfromtxt(file_name, delimiter='\\t', names=('n', 't_s'))\n",
    "    n, t = file['n'][1:-1], file['t_s'][1:-1] #exclude first and last data point\n",
    "    \n",
    "    #perform initial linear regression\n",
    "    reg = LinearRegression().fit(n.reshape(-1,1),t.reshape(-1,1))\n",
    "    fit_times = (n*reg.coef_+reg.intercept_).reshape(len(n),)\n",
    "    \n",
    "    #compute time residuals\n",
    "    res = t-fit_times\n",
    "    residuals.append(res)\n",
    "    \n",
    "    #fit residuals to Gaussian and get sigma\n",
    "#     sigma, res_chi2, res_p = fit_residuals(res, -0.2, 0.2, plot=False)\n",
    "    sigma = fit_residuals(res, -0.2, 0.2, plot=False)\n",
    "    sigmas.append(sigma)\n",
    "    \n",
    "    #perform linear fit by Minuit with error from Gaussian sigma\n",
    "    a_init, b_init = reg.coef_[0,0], reg.intercept_[0]\n",
    "    t_err = np.ones(len(t))*sigma\n",
    "    slope, slope_err, slope_chi2, slope_p = fit_linear(n, t, t_err, a_init, b_init, plot=False)\n",
    "    \n",
    "    #add slope and error to list\n",
    "    period.append(slope)\n",
    "    period_err.append(slope_err)\n",
    "    period_chi2.append(slope_chi2)\n",
    "    period_p.append(slope_p)"
   ]
  },
  {
   "cell_type": "code",
   "execution_count": 22,
   "id": "51d11000",
   "metadata": {},
   "outputs": [
    {
     "data": {
      "text/html": [
       "<div>\n",
       "<style scoped>\n",
       "    .dataframe tbody tr th:only-of-type {\n",
       "        vertical-align: middle;\n",
       "    }\n",
       "\n",
       "    .dataframe tbody tr th {\n",
       "        vertical-align: top;\n",
       "    }\n",
       "\n",
       "    .dataframe thead th {\n",
       "        text-align: right;\n",
       "    }\n",
       "</style>\n",
       "<table border=\"1\" class=\"dataframe\">\n",
       "  <thead>\n",
       "    <tr style=\"text-align: right;\">\n",
       "      <th></th>\n",
       "      <th>Period (s)</th>\n",
       "      <th>Error (s)</th>\n",
       "      <th>Chi2</th>\n",
       "      <th>P-value</th>\n",
       "      <th>Time resolution (s)</th>\n",
       "    </tr>\n",
       "  </thead>\n",
       "  <tbody>\n",
       "    <tr>\n",
       "      <th>Amalie</th>\n",
       "      <td>2.522592</td>\n",
       "      <td>0.001607</td>\n",
       "      <td>13.269983</td>\n",
       "      <td>0.961460</td>\n",
       "      <td>0.061461</td>\n",
       "    </tr>\n",
       "    <tr>\n",
       "      <th>Søren</th>\n",
       "      <td>2.518794</td>\n",
       "      <td>0.000939</td>\n",
       "      <td>22.718650</td>\n",
       "      <td>0.536454</td>\n",
       "      <td>0.035919</td>\n",
       "    </tr>\n",
       "    <tr>\n",
       "      <th>Sara</th>\n",
       "      <td>2.514937</td>\n",
       "      <td>0.000584</td>\n",
       "      <td>21.061314</td>\n",
       "      <td>0.577343</td>\n",
       "      <td>0.021048</td>\n",
       "    </tr>\n",
       "    <tr>\n",
       "      <th>Lukas</th>\n",
       "      <td>2.518783</td>\n",
       "      <td>0.001937</td>\n",
       "      <td>10.238081</td>\n",
       "      <td>0.993493</td>\n",
       "      <td>0.074068</td>\n",
       "    </tr>\n",
       "    <tr>\n",
       "      <th>Elloise</th>\n",
       "      <td>2.510356</td>\n",
       "      <td>0.003412</td>\n",
       "      <td>7.677334</td>\n",
       "      <td>0.998829</td>\n",
       "      <td>0.123038</td>\n",
       "    </tr>\n",
       "  </tbody>\n",
       "</table>\n",
       "</div>"
      ],
      "text/plain": [
       "         Period (s)  Error (s)       Chi2   P-value  Time resolution (s)\n",
       "Amalie     2.522592   0.001607  13.269983  0.961460             0.061461\n",
       "Søren      2.518794   0.000939  22.718650  0.536454             0.035919\n",
       "Sara       2.514937   0.000584  21.061314  0.577343             0.021048\n",
       "Lukas      2.518783   0.001937  10.238081  0.993493             0.074068\n",
       "Elloise    2.510356   0.003412   7.677334  0.998829             0.123038"
      ]
     },
     "execution_count": 22,
     "metadata": {},
     "output_type": "execute_result"
    }
   ],
   "source": [
    "#show in dataframe\n",
    "df = pd.DataFrame({'Period (s)': period,\n",
    "                   'Error (s)': period_err,\n",
    "                   'Chi2': period_chi2,\n",
    "                   'P-value': period_p,\n",
    "                   'Time resolution (s)': sigmas},\n",
    "                  index=['Amalie', 'Søren', 'Sara', 'Lukas', 'Elloise'])\n",
    "\n",
    "df"
   ]
  },
  {
   "cell_type": "code",
   "execution_count": 31,
   "id": "a3a3c298",
   "metadata": {},
   "outputs": [
    {
     "name": "stdout",
     "output_type": "stream",
     "text": [
      "Residuals:\n",
      "amalie :  [-4.840e-02  2.120e-02 -3.930e-02  1.200e-02 -1.500e-03 -6.800e-02\n",
      "  5.270e-02 -5.910e-02  2.070e-02  3.530e-02  3.480e-02  1.020e-02\n",
      "  5.340e-02 -1.000e-04  4.430e-02 -7.900e-03  7.290e-02  4.090e-02\n",
      " -5.300e-03 -4.510e-02 -3.100e-02 -1.123e-01  3.500e-03  3.920e-02\n",
      " -4.650e-02  2.340e-02]\n",
      "soren :  [ 0.0017 -0.0049 -0.017   0.0238 -0.0091  0.0138  0.0158 -0.0914  0.0779\n",
      " -0.0444  0.0056  0.027   0.0432 -0.0177  0.0038 -0.012  -0.001   0.0076\n",
      " -0.0144 -0.0339 -0.007   0.0018  0.0567 -0.0375  0.0393 -0.0279]\n",
      "sara :  [-0.0353 -0.0042  0.0239 -0.0004 -0.0421  0.0138  0.0203  0.054   0.0148\n",
      " -0.0141  0.0138 -0.0156 -0.0034  0.0038 -0.0127 -0.0048  0.0157 -0.0178\n",
      " -0.0042 -0.0089 -0.011  -0.0109  0.0085  0.0047  0.0121]\n",
      "lukas :  [ 0.0358 -0.0363 -0.0483 -0.0178  0.0146 -0.0485  0.0576  0.0715  0.0033\n",
      "  0.0262 -0.0133 -0.0476 -0.0476  0.0748  0.0268 -0.0617  0.0242  0.0273\n",
      " -0.0543  0.0643  0.04   -0.1106 -0.0165  0.0308 -0.0186  0.0238]\n",
      "elloise :  [-0.0705 -0.0407 -0.0332  0.0398  0.0166  0.0438  0.0452 -0.0244  0.0896\n",
      " -0.0771  0.088   0.0139 -0.0175  0.0604  0.0308  0.037  -0.1611 -0.0652\n",
      "  0.1052 -0.0671 -0.0188 -0.1422  0.0359  0.0535  0.058 ]\n"
     ]
    }
   ],
   "source": [
    "#print residuals\n",
    "print('Residuals:')\n",
    "for i,n in zip(names, residuals):\n",
    "    print(str(i),': ',str(n.round(4)))"
   ]
  },
  {
   "cell_type": "markdown",
   "id": "d0c23e28",
   "metadata": {},
   "source": [
    "# Combine period values"
   ]
  },
  {
   "cell_type": "code",
   "execution_count": 16,
   "id": "d44677ad",
   "metadata": {},
   "outputs": [
    {
     "name": "stdout",
     "output_type": "stream",
     "text": [
      "  Weighted average of periods: 2.51659 +/- 0.00046 s, Chi2: 32.09378, p: 0.00001\n"
     ]
    }
   ],
   "source": [
    "#weighted mean of period values\n",
    "periods = np.array(period)\n",
    "periods_err = np.array(period_err)\n",
    "period_avg, period_avg_err, period_avg_chi2, period_avg_p = weighted_average(periods, periods_err)\n",
    "print(f\"  Weighted average of periods: {period_avg:.5f} +/- {period_avg_err:.5f} s, Chi2: {period_avg_chi2:.5f}, p: {period_avg_p:.5f}\")"
   ]
  },
  {
   "cell_type": "code",
   "execution_count": 17,
   "id": "31cb8267",
   "metadata": {},
   "outputs": [
    {
     "name": "stdout",
     "output_type": "stream",
     "text": [
      "  Weighted average of periods: 2.51751 +/- 0.00190 s, Chi2: 3.38289, p: 0.64118\n"
     ]
    }
   ],
   "source": [
    "#add systematic error instead\n",
    "diffs = []\n",
    "for i in range(len(periods)):\n",
    "    for n in range(len(periods)):\n",
    "        diffs.append(periods_err[i]-periods_err[n])\n",
    "\n",
    "diff = np.abs(np.array(diffs))\n",
    "\n",
    "period_avg, period_avg_err, period_avg_chi2, period_avg_p = weighted_average(periods, periods_err+diff.max())\n",
    "print(f\"  Weighted average of periods: {period_avg:.5f} +/- {period_avg_err:.5f} s, Chi2: {period_avg_chi2:.5f}, p: {period_avg_p:.5f}\")"
   ]
  },
  {
   "cell_type": "markdown",
   "id": "a7ae3207",
   "metadata": {},
   "source": [
    "# Combine string length measurements"
   ]
  },
  {
   "cell_type": "code",
   "execution_count": 18,
   "id": "a0710355",
   "metadata": {},
   "outputs": [
    {
     "name": "stdout",
     "output_type": "stream",
     "text": [
      "  Weighted average of string lenghts: 1.57396 +/- 0.00022 m, Chi2: 208.36905, p: 0.00000\n"
     ]
    }
   ],
   "source": [
    "#load and average string length measurements\n",
    "snor = np.genfromtxt('snor.dat', delimiter=',', names=('string', 'string_err', 'ball', 'ball_err'))\n",
    "string, string_err, ball, ball_err = snor['string'], snor['string_err'], snor['ball'], snor['ball_err']\n",
    "\n",
    "string_len = string+(1/2)*ball\n",
    "string_len_err = np.sqrt(string_err**2+(1/4)*ball_err**2)\n",
    "\n",
    "string_avg, string_avg_err, string_avg_chi2, string_avg_p = weighted_average(string_len, string_len_err)\n",
    "print(f\"  Weighted average of string lenghts: {string_avg:.5f} +/- {string_avg_err:.5f} m, Chi2: {string_avg_chi2:.5f}, p: {string_avg_p:.5f}\")"
   ]
  },
  {
   "cell_type": "code",
   "execution_count": 19,
   "id": "16257590",
   "metadata": {},
   "outputs": [
    {
     "name": "stdout",
     "output_type": "stream",
     "text": [
      "  Weighted average of string lenghts: 1.57674 +/- 0.00161 m, Chi2: 4.00000, p: 0.54942\n"
     ]
    }
   ],
   "source": [
    "#use arithmetic mean and RMSD instead\n",
    "string_avg, string_avg_err, string_avg_chi2, string_avg_p = weighted_average(string_len, np.ones(len(string_len))*RMSD(string_len))\n",
    "print(f\"  Weighted average of string lenghts: {string_avg:.5f} +/- {string_avg_err:.5f} m, Chi2: {string_avg_chi2:.5f}, p: {string_avg_p:.5f}\")"
   ]
  },
  {
   "cell_type": "markdown",
   "id": "015df832",
   "metadata": {},
   "source": [
    "# Combine everything"
   ]
  },
  {
   "cell_type": "code",
   "execution_count": 20,
   "id": "563a4a12",
   "metadata": {},
   "outputs": [
    {
     "name": "stdout",
     "output_type": "stream",
     "text": [
      " Final g: 9.82149 +/- 0.01789\n"
     ]
    }
   ],
   "source": [
    "#combine period and string length\n",
    "final_g = string_avg*(2*np.pi/period_avg)**2\n",
    "\n",
    "#compute impacts on error on g\n",
    "string_imp = (2*np.pi/period_avg)**4 * string_avg_err**2\n",
    "period_imp = ((-2*string_avg*(2*np.pi)**2)/period_avg**3)**2 * period_avg_err**2\n",
    "\n",
    "#compute final error on g\n",
    "final_g_err = np.sqrt(string_imp+period_imp)\n",
    "\n",
    "print(f\" Final g: {final_g:.5f} +/- {final_g_err:.5f}\")"
   ]
  }
 ],
 "metadata": {
  "kernelspec": {
   "display_name": "Python 3 (ipykernel)",
   "language": "python",
   "name": "python3"
  },
  "language_info": {
   "codemirror_mode": {
    "name": "ipython",
    "version": 3
   },
   "file_extension": ".py",
   "mimetype": "text/x-python",
   "name": "python",
   "nbconvert_exporter": "python",
   "pygments_lexer": "ipython3",
   "version": "3.9.7"
  }
 },
 "nbformat": 4,
 "nbformat_minor": 5
}
