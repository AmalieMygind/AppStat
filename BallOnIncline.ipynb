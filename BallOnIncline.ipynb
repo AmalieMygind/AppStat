{
 "cells": [
  {
   "cell_type": "markdown",
   "metadata": {},
   "source": [
    "# Analyze Ball on Incline data"
   ]
  },
  {
   "cell_type": "code",
   "execution_count": 1,
   "metadata": {},
   "outputs": [],
   "source": [
    "# Imports\n",
    "import os, sys\n",
    "import numpy as np\n",
    "import matplotlib.pyplot as plt\n",
    "from scipy.signal import find_peaks\n",
    "from scipy.optimize import curve_fit\n",
    "from scipy import stats\n",
    "import pandas as pd\n",
    "import sympy as sp\n",
    "import seaborn as sns\n",
    "\n",
    "sns.set()\n",
    "sns.set_palette(\"husl\",8)\n",
    "\n",
    "from iminuit import Minuit\n",
    "sys.path.append('../../External_Functions')\n",
    "from ExternalFunctions import Chi2Regression\n",
    "from ExternalFunctions import nice_string_output, add_text_to_ax"
   ]
  },
  {
   "cell_type": "markdown",
   "metadata": {},
   "source": [
    "# Define functions\n"
   ]
  },
  {
   "cell_type": "code",
   "execution_count": 2,
   "metadata": {},
   "outputs": [],
   "source": [
    "def read_csv(filename):\n",
    "    dat = np.genfromtxt(filename, delimiter=',', skip_header=13, names=True)\n",
    "    time = dat['Time_s']\n",
    "    voltage = dat['Channel_1_V']\n",
    "    return time, voltage"
   ]
  },
  {
   "cell_type": "code",
   "execution_count": 3,
   "metadata": {},
   "outputs": [],
   "source": [
    "def RMSD(data):\n",
    "    return np.sqrt(np.sum((data-data.mean())**2)/(len(data)-1))"
   ]
  },
  {
   "cell_type": "code",
   "execution_count": 4,
   "metadata": {},
   "outputs": [],
   "source": [
    "def weighted_average(data, errors):\n",
    "    avg = np.sum(data/errors**2)/np.sum(1/errors**2)\n",
    "    err = np.sqrt(1/np.sum(1/errors**2))\n",
    "    exp = avg*np.ones(len(data))\n",
    "    chi2 = np.sum(((data-exp)/errors)**2)\n",
    "    dof = len(data)\n",
    "    p = 1 - stats.chi2.cdf(chi2, dof)\n",
    "    return avg, err, chi2, p"
   ]
  },
  {
   "cell_type": "code",
   "execution_count": 5,
   "metadata": {},
   "outputs": [],
   "source": [
    "def plot_raw_data(x, y):\n",
    "    fig, ax = plt.subplots(figsize=(14, 6))\n",
    "    ax.plot(x, y, 'k.', label='Measurements')\n",
    "    ax.set_title(\"Data from Ball-on-Incline experiment\")\n",
    "    ax.set_xlabel(\"Time (s)\")\n",
    "    ax.set_ylabel(\"Voltage (V)\")"
   ]
  },
  {
   "cell_type": "code",
   "execution_count": 6,
   "metadata": {},
   "outputs": [],
   "source": [
    "def fit_parabola(x, y, sy, plot=bool):\n",
    "    \n",
    "    def func_para(x, a, v0, s0):\n",
    "        return (1/2)*a*x*x+v0*x+s0\n",
    "\n",
    "    #initial parameters to feed to minuit\n",
    "    a, v0, s0 = curve_fit(func_para, peak_times, gate_pos)[0] \n",
    "    \n",
    "    #fit by Minuit\n",
    "    chi2_object = Chi2Regression(func_para, x, y, sy)\n",
    "    chi2_object.errordef = Minuit.LEAST_SQUARES\n",
    "    minuit = Minuit(chi2_object, a=a, v0=v0, s0=s0)\n",
    "    minuit.migrad();\n",
    "    a, v0, s0 = minuit.values[:]\n",
    "    \n",
    "    #get chi2 value\n",
    "    chi2_val = minuit.fval\n",
    "    \n",
    "    #get number of degrees of freedom\n",
    "    N_DOF = len(x) - len(minuit.values[:])\n",
    "    \n",
    "    #get chi2 probability\n",
    "    chi2_prob = stats.chi2.sf(chi2_val, N_DOF)\n",
    "    \n",
    "    if plot:\n",
    "        #plot fit \n",
    "        x_fit = np.linspace(0, 1, 1000)\n",
    "        y_fit = func_para(x_fit, a, v0, s0)\n",
    "\n",
    "        d = {'Entries':  len(x),\n",
    "         'Chi2':     chi2_val,\n",
    "         'ndf':      N_DOF,\n",
    "         'Prob':     chi2_prob}\n",
    "\n",
    "        #add fit parameters to text box\n",
    "        for name in minuit.parameters:\n",
    "            d[name] = [minuit.values[name], minuit.errors[name]]\n",
    "\n",
    "        text = nice_string_output(d, extra_spacing=2, decimals=3)\n",
    "        \n",
    "        fig, ax = plt.subplots(figsize=(12, 6))\n",
    "        ax.errorbar(x, y, yerr=sy, fmt='ko', label='Data')\n",
    "        ax.plot(x_fit, y_fit, '-', label='Fit by Minuit')\n",
    "        ax.set_title('Fit of parabola by Minuit', fontsize = 15)\n",
    "        ax.set_xlim(0,0.9)\n",
    "        ax.set_xlabel('Time (s)', fontsize = 15)\n",
    "        ax.set_ylabel('Position (m)', fontsize = 15)\n",
    "        add_text_to_ax(0.02, 0.95, text, ax, fontsize=15)\n",
    "        ax.legend(prop={\"size\":15})\n",
    "        fig.tight_layout()\n",
    "    \n",
    "    return minuit.values['a'], minuit.errors['a'], chi2_val, chi2_prob\n",
    "#     return minuit.values['a'], minuit.errors['a'], chi2_val, chi2_prob, fig"
   ]
  },
  {
   "cell_type": "markdown",
   "metadata": {},
   "source": [
    "## Reading and plotting the data (example)\n",
    "\n",
    "The function \"read_csv(filename)\" takes in a filename and returns numpy arrays with time and voltage."
   ]
  },
  {
   "cell_type": "code",
   "execution_count": 7,
   "metadata": {
    "code_folding": [],
    "scrolled": false
   },
   "outputs": [
    {
     "data": {
      "image/png": "[encoded data removed]",
      "text/plain": [
       "<Figure size 1008x432 with 1 Axes>"
      ]
     },
     "metadata": {},
     "output_type": "display_data"
    }
   ],
   "source": [
    "# Read and plot the raw data \n",
    "filename = 'amalie_norm.csv'\n",
    "time, voltage = read_csv(filename)\n",
    "\n",
    "plot_raw_data(time, voltage)"
   ]
  },
  {
   "cell_type": "code",
   "execution_count": 8,
   "metadata": {},
   "outputs": [],
   "source": [
    "#input gate positions\n",
    "gate_pos = np.array([13.05, 29.90, 52.20, 74.45, 92.45])/100\n",
    "gate_pos_err = (0.05*np.ones(len(gate_pos))/100)*5\n",
    "\n",
    "#locate peak times\n",
    "peak_index, peak_height = find_peaks(voltage, height = 2)\n",
    "peak_times = time[peak_index]"
   ]
  },
  {
   "cell_type": "code",
   "execution_count": 9,
   "metadata": {},
   "outputs": [
    {
     "data": {
      "image/png": "[encoded data removed]",
      "text/plain": [
       "<Figure size 864x432 with 1 Axes>"
      ]
     },
     "metadata": {},
     "output_type": "display_data"
    }
   ],
   "source": [
    "#fit parabola to peak times and positions\n",
    "acc, acc_err, chi2, p = fit_parabola(peak_times, gate_pos, gate_pos_err)\n",
    "\n",
    "# acc, acc_err, chi2, p, fig = fit_parabola(peak_times, gate_pos, gate_pos_err)\n",
    "# fig.savefig('parabola_fit_example.png')"
   ]
  },
  {
   "cell_type": "code",
   "execution_count": 10,
   "metadata": {},
   "outputs": [
    {
     "name": "stdout",
     "output_type": "stream",
     "text": [
      "  Fit value for acceleration (example): 1.67928 +/- 0.03469 m/s^2, Chi2: 3.30498, p: 0.19157\n"
     ]
    }
   ],
   "source": [
    "print(f\"  Fit value for acceleration (example): {acc:.5f} +/- {acc_err:.5f} m/s^2, Chi2: {chi2:.5f}, p: {p:.5f}\")"
   ]
  },
  {
   "cell_type": "markdown",
   "metadata": {},
   "source": [
    "# Get acceleration from all 5 measurements"
   ]
  },
  {
   "cell_type": "code",
   "execution_count": 11,
   "metadata": {},
   "outputs": [],
   "source": [
    "#make empty lists for accelerations and errors for normal setup and reversed setup\n",
    "acc_norm = []\n",
    "acc_norm_err = []\n",
    "acc_rev = []\n",
    "acc_rev_err = []\n",
    "chi2_norm = []\n",
    "chi2_rev = []\n",
    "p_norm = []\n",
    "p_rev = []\n",
    "\n",
    "#read gate positions and estimates on error\n",
    "gate_poss = np.genfromtxt('gate_positions.dat', delimiter=',', names=('index', 'amalie', 'soren', 'sara', 'lukas', 'elloise'))\n",
    "\n",
    "names = ['amalie', 'soren', 'sara', 'lukas', 'elloise']\n",
    "\n",
    "#get acceleration values for normal setup\n",
    "for name in names:\n",
    "    #read correct file\n",
    "    filename = name+'_norm.csv'\n",
    "    time, voltage = read_csv(filename)\n",
    "    \n",
    "    #extract gate positions and error estimate\n",
    "    gate_pos = gate_poss[name][:-1]\n",
    "    if name != 'lukas':\n",
    "        gate_pos_err = gate_poss[name][-1]*5\n",
    "    else:\n",
    "        gate_pos_err = gate_poss[name][-1]\n",
    "    \n",
    "    #find peaks in voltage\n",
    "    peak_index, peak_height = find_peaks(voltage, height=2)\n",
    "    peak_times = time[peak_index]\n",
    "    \n",
    "    #fit parabola to (time, position) curve and extract acceleration\n",
    "    acc, acc_err, chi2, p = fit_parabola(peak_times, gate_pos, gate_pos_err, plot=False)\n",
    "    \n",
    "    #add acceleration and error to respective lists\n",
    "    acc_norm.append(acc)\n",
    "    acc_norm_err.append(acc_err)\n",
    "    chi2_norm.append(chi2)\n",
    "    p_norm.append(p)\n",
    "\n",
    "#get acceleration values for reversed setup\n",
    "for name in names:\n",
    "    #read correct file\n",
    "    filename = name+'_rev.csv'\n",
    "    time, voltage = read_csv(filename)\n",
    "    \n",
    "    #extract gate positions and error estimate\n",
    "    gate_pos = gate_poss[name][:-1]\n",
    "    if name != 'lukas':\n",
    "        gate_pos_err = gate_poss[name][-1]*5\n",
    "    else:\n",
    "        gate_pos_err = gate_poss[name][-1]\n",
    "    \n",
    "    #find peaks in voltage\n",
    "    peak_index, peak_height = find_peaks(voltage, height=2)\n",
    "    peak_times = time[peak_index]\n",
    "    \n",
    "    #fit parabola to (time, position) curve and extract acceleration\n",
    "    acc, acc_err, chi2, p = fit_parabola(peak_times, gate_pos, gate_pos_err, plot=False)\n",
    "    \n",
    "    #add acceleration and error to respective lists\n",
    "    acc_rev.append(acc)\n",
    "    acc_rev_err.append(acc_err)\n",
    "    chi2_rev.append(chi2)\n",
    "    p_rev.append(p)\n",
    "    "
   ]
  },
  {
   "cell_type": "code",
   "execution_count": 12,
   "metadata": {},
   "outputs": [
    {
     "data": {
      "text/html": [
       "<div>\n",
       "<style scoped>\n",
       "    .dataframe tbody tr th:only-of-type {\n",
       "        vertical-align: middle;\n",
       "    }\n",
       "\n",
       "    .dataframe tbody tr th {\n",
       "        vertical-align: top;\n",
       "    }\n",
       "\n",
       "    .dataframe thead th {\n",
       "        text-align: right;\n",
       "    }\n",
       "</style>\n",
       "<table border=\"1\" class=\"dataframe\">\n",
       "  <thead>\n",
       "    <tr style=\"text-align: right;\">\n",
       "      <th></th>\n",
       "      <th>Acceleration (normal)</th>\n",
       "      <th>Error (normal)</th>\n",
       "      <th>Chi2 (normal)</th>\n",
       "      <th>P-value (normal)</th>\n",
       "      <th>Acceleration (reversed)</th>\n",
       "      <th>Error (reversed)</th>\n",
       "      <th>Chi2 (reversed)</th>\n",
       "      <th>P-value (reversed)</th>\n",
       "    </tr>\n",
       "  </thead>\n",
       "  <tbody>\n",
       "    <tr>\n",
       "      <th>Amalie</th>\n",
       "      <td>1.679282</td>\n",
       "      <td>0.034692</td>\n",
       "      <td>3.304980</td>\n",
       "      <td>0.191572</td>\n",
       "      <td>1.750760</td>\n",
       "      <td>0.035879</td>\n",
       "      <td>3.662528</td>\n",
       "      <td>0.160211</td>\n",
       "    </tr>\n",
       "    <tr>\n",
       "      <th>Søren</th>\n",
       "      <td>1.677841</td>\n",
       "      <td>0.020561</td>\n",
       "      <td>7.141998</td>\n",
       "      <td>0.028128</td>\n",
       "      <td>1.754159</td>\n",
       "      <td>0.021688</td>\n",
       "      <td>5.639648</td>\n",
       "      <td>0.059616</td>\n",
       "    </tr>\n",
       "    <tr>\n",
       "      <th>Sara</th>\n",
       "      <td>1.680050</td>\n",
       "      <td>0.034852</td>\n",
       "      <td>2.617338</td>\n",
       "      <td>0.270179</td>\n",
       "      <td>1.748047</td>\n",
       "      <td>0.036122</td>\n",
       "      <td>2.726827</td>\n",
       "      <td>0.255786</td>\n",
       "    </tr>\n",
       "    <tr>\n",
       "      <th>Lukas</th>\n",
       "      <td>1.668477</td>\n",
       "      <td>0.027600</td>\n",
       "      <td>6.133437</td>\n",
       "      <td>0.046574</td>\n",
       "      <td>1.740201</td>\n",
       "      <td>0.028694</td>\n",
       "      <td>5.418152</td>\n",
       "      <td>0.066598</td>\n",
       "    </tr>\n",
       "    <tr>\n",
       "      <th>Elloise</th>\n",
       "      <td>1.680181</td>\n",
       "      <td>0.034838</td>\n",
       "      <td>3.395884</td>\n",
       "      <td>0.183060</td>\n",
       "      <td>1.747100</td>\n",
       "      <td>0.036236</td>\n",
       "      <td>3.152628</td>\n",
       "      <td>0.206736</td>\n",
       "    </tr>\n",
       "  </tbody>\n",
       "</table>\n",
       "</div>"
      ],
      "text/plain": [
       "         Acceleration (normal)  Error (normal)  Chi2 (normal)  \\\n",
       "Amalie                1.679282        0.034692       3.304980   \n",
       "Søren                 1.677841        0.020561       7.141998   \n",
       "Sara                  1.680050        0.034852       2.617338   \n",
       "Lukas                 1.668477        0.027600       6.133437   \n",
       "Elloise               1.680181        0.034838       3.395884   \n",
       "\n",
       "         P-value (normal)  Acceleration (reversed)  Error (reversed)  \\\n",
       "Amalie           0.191572                 1.750760          0.035879   \n",
       "Søren            0.028128                 1.754159          0.021688   \n",
       "Sara             0.270179                 1.748047          0.036122   \n",
       "Lukas            0.046574                 1.740201          0.028694   \n",
       "Elloise          0.183060                 1.747100          0.036236   \n",
       "\n",
       "         Chi2 (reversed)  P-value (reversed)  \n",
       "Amalie          3.662528            0.160211  \n",
       "Søren           5.639648            0.059616  \n",
       "Sara            2.726827            0.255786  \n",
       "Lukas           5.418152            0.066598  \n",
       "Elloise         3.152628            0.206736  "
      ]
     },
     "execution_count": 12,
     "metadata": {},
     "output_type": "execute_result"
    }
   ],
   "source": [
    "#show in dataframe\n",
    "df = pd.DataFrame({'Acceleration (normal)': acc_norm,\n",
    "                   'Error (normal)': acc_norm_err,\n",
    "                   'Chi2 (normal)': chi2_norm,\n",
    "                   'P-value (normal)': p_norm,\n",
    "                   'Acceleration (reversed)': acc_rev,\n",
    "                   'Error (reversed)': acc_rev_err,\n",
    "                   'Chi2 (reversed)': chi2_rev,\n",
    "                   'P-value (reversed)': p_rev},\n",
    "                  index=['Amalie', 'Søren', 'Sara', 'Lukas', 'Elloise'])\n",
    "\n",
    "df"
   ]
  },
  {
   "cell_type": "code",
   "execution_count": 13,
   "metadata": {},
   "outputs": [
    {
     "name": "stdout",
     "output_type": "stream",
     "text": [
      "  Weighted average of acceleration (normal): 1.67665 +/- 0.01275 m/s^2, Chi2: 0.11659, p: 0.99976\n",
      "  Weighted average of acceleration (reversed): 1.74891 +/- 0.01331 m/s^2, Chi2: 0.15642, p: 0.99951\n"
     ]
    }
   ],
   "source": [
    "#weighted averages and errors of accleration (normal and reversed setup)\n",
    "acc_avg_norm, acc_avg_norm_err, acc_avg_norm_chi2, acc_avg_norm_p = weighted_average(acc_norm, np.array(acc_norm_err))\n",
    "acc_avg_rev, acc_avg_rev_err, acc_avg_rev_chi2, acc_avg_rev_p = weighted_average(acc_rev, np.array(acc_rev_err))\n",
    "print(f\"  Weighted average of acceleration (normal): {acc_avg_norm:.5f} +/- {acc_avg_norm_err:.5f} m/s^2, Chi2: {acc_avg_norm_chi2:.5f}, p: {acc_avg_norm_p:.5f}\")\n",
    "print(f\"  Weighted average of acceleration (reversed): {acc_avg_rev:.5f} +/- {acc_avg_rev_err:.5f} m/s^2, Chi2: {acc_avg_rev_chi2:.5f}, p: {acc_avg_rev_p:.5f}\")"
   ]
  },
  {
   "cell_type": "markdown",
   "metadata": {},
   "source": [
    "# Compute trigonometric angle"
   ]
  },
  {
   "cell_type": "code",
   "execution_count": 14,
   "metadata": {},
   "outputs": [
    {
     "name": "stdout",
     "output_type": "stream",
     "text": [
      "  Weighted average of long side length: 0.98986 +/- 0.00014 m, Chi2: 588.57293, p: 0.0\n",
      "  Weighted average of short side length: 0.27286 +/- 0.00009 m, Chi2: 498.40895, p: 0.0\n"
     ]
    }
   ],
   "source": [
    "#load triangle measurements\n",
    "tri = np.genfromtxt('triangle_sides.dat', delimiter=',', names=('long', 'err_long', 'short', 'err_short'))\n",
    "\n",
    "#compute weighted averages of measurements\n",
    "long_avg, long_avg_err, long_avg_chi2, long_avg_p = weighted_average(tri['long'], tri['err_long'])\n",
    "short_avg, short_avg_err, short_avg_chi2, short_avg_p = weighted_average(tri['short'], tri['err_short'])\n",
    "print(f\"  Weighted average of long side length: {long_avg:.5f} +/- {long_avg_err:.5f} m, Chi2: {long_avg_chi2:.5f}, p: {long_avg_p}\")\n",
    "print(f\"  Weighted average of short side length: {short_avg:.5f} +/- {short_avg_err:.5f} m, Chi2: {short_avg_chi2:.5f}, p: {short_avg_p}\")"
   ]
  },
  {
   "cell_type": "code",
   "execution_count": 15,
   "metadata": {},
   "outputs": [],
   "source": [
    "# #use arithmetic mean and RMSD instead\n",
    "# long_avg, long_avg_err, long_avg_chi2, long_avg_p = weighted_average(tri['long'], RMSD(tri['long'])*np.ones(len(tri['long'])))\n",
    "# short_avg, short_avg_err, short_avg_chi2, short_avg_p = weighted_average(tri['short'], RMSD(tri['short'])*np.ones(len(tri['short'])))\n",
    "# print(f\"  Weighted average of long side length: {long_avg:.5f} +/- {long_avg_err:.5f} m, Chi2: {long_avg_chi2:.5f}, p: {long_avg_p:.5f}\")\n",
    "# print(f\"  Weighted average of short side length: {short_avg:.5f} +/- {short_avg_err:.5f} m, Chi2: {short_avg_chi2:.5f}, p: {short_avg_p:.5f}\")"
   ]
  },
  {
   "cell_type": "code",
   "execution_count": 16,
   "metadata": {},
   "outputs": [
    {
     "name": "stdout",
     "output_type": "stream",
     "text": [
      "  Trigonometric angle: 15.41093 +/- 0.00530 degrees\n"
     ]
    }
   ],
   "source": [
    "#compute trigonometric angle and error using sympy\n",
    "\n",
    "# Define variables:\n",
    "x,y,dx,dy = sp.symbols(\"x, y, dx, dy\")\n",
    "\n",
    "# Define relation:\n",
    "f = sp.atan(x/y)\n",
    "\n",
    "# Calculate uncertainty:\n",
    "df = sp.sqrt((f.diff(x) * dx)**2 + (f.diff(y) * dy)**2)\n",
    "\n",
    "# Turn expression into numerical functions \n",
    "f_func = sp.lambdify((x,y),f)\n",
    "df_func = sp.lambdify((x,dx,y,dy),df)\n",
    "\n",
    "# Define values and their errors\n",
    "vx, vdx = short_avg, short_avg_err\n",
    "vy, vdy = long_avg, long_avg_err\n",
    "\n",
    "# Numerically evaluate expressions and print \n",
    "trig_ang = f_func(vx,vy)*(180/np.pi)\n",
    "trig_ang_err = df_func(vx,vdx,vy,vdy)*(180/np.pi)\n",
    "\n",
    "print(f\"  Trigonometric angle: {trig_ang:.5f} +/- {trig_ang_err:.5f} degrees\")"
   ]
  },
  {
   "cell_type": "markdown",
   "metadata": {},
   "source": [
    "# Compute delta angle (difference in acceleration)"
   ]
  },
  {
   "cell_type": "code",
   "execution_count": 17,
   "metadata": {},
   "outputs": [
    {
     "name": "stdout",
     "output_type": "stream",
     "text": [
      "  Delta angle from difference in acceleration: 0.33315 +/- 0.08490 degrees\n"
     ]
    }
   ],
   "source": [
    "#angle of table to ground from difference in acceleration (using sympy)\n",
    "\n",
    "# Define variables:\n",
    "x,y,z,dx,dy,dz = sp.symbols(\"x, y, z, dx, dy, dz\")\n",
    "\n",
    "# Define relation:\n",
    "f = (x-y)*sp.sin(z*sp.pi/180)/((x+y)*sp.cos(z*sp.pi/180))\n",
    "\n",
    "# Calculate uncertainty:\n",
    "df = sp.sqrt((f.diff(x)*dx)**2 + (f.diff(y)*dy)**2 + (f.diff(z)*dz)**2)\n",
    "\n",
    "# Turn expression into numerical functions \n",
    "f_func = sp.lambdify((x,y,z),f)\n",
    "df_func = sp.lambdify((x,dx,y,dy,z,dz),df)\n",
    "\n",
    "# Define values and their errors\n",
    "vx, vdx = acc_avg_norm, acc_avg_norm_err\n",
    "vy, vdy = acc_avg_rev, acc_avg_rev_err\n",
    "vz, vdz = trig_ang, trig_ang_err\n",
    "\n",
    "# Numerically evaluate expressions and print \n",
    "delta_ang_acc = abs(f_func(vx,vy,vz)*(180/np.pi))\n",
    "delta_ang_acc_err = df_func(vx,vdx,vy,vdy,vz,vdz)*(180/np.pi)\n",
    "\n",
    "print(f\"  Delta angle from difference in acceleration: {delta_ang_acc:.5f} +/- {delta_ang_acc_err:.5f} degrees\")"
   ]
  },
  {
   "cell_type": "markdown",
   "metadata": {},
   "source": [
    "# Compute delta angle (by flipping setup)"
   ]
  },
  {
   "cell_type": "code",
   "execution_count": 18,
   "metadata": {},
   "outputs": [
    {
     "name": "stdout",
     "output_type": "stream",
     "text": [
      "  Weighted average of gonio angles (normal): 14.76538 +/- 0.03922 degrees, Chi2: 56.47115, p: 0.00000\n",
      "  Weighted average of gonio angles (reversed): 15.07826 +/- 0.04170 degrees, Chi2: 606.97826, p: 0.00000\n"
     ]
    }
   ],
   "source": [
    "#load and average goniometer measurements\n",
    "gonio = np.genfromtxt('gonio_wo_elloi.dat', delimiter=',', names=('norm', 'err_norm', 'rev', 'err_rev')) #elloise's data removed\n",
    "norm, err_norm, rev, err_rev = gonio['norm'], gonio['err_norm'], gonio['rev'], gonio['err_rev']\n",
    "\n",
    "#weighted averages and errors of accleration (normal and reversed setup)\n",
    "gonio_avg_norm, gonio_avg_norm_err, gonio_avg_norm_chi2, gonio_avg_norm_p = weighted_average(norm, err_norm)\n",
    "gonio_avg_rev, gonio_avg_rev_err, gonio_avg_rev_chi2, gonio_avg_rev_p = weighted_average(rev, err_rev)\n",
    "print(f\"  Weighted average of gonio angles (normal): {gonio_avg_norm:.5f} +/- {gonio_avg_norm_err:.5f} degrees, Chi2: {gonio_avg_norm_chi2:.5f}, p: {gonio_avg_norm_p:.5f}\")\n",
    "print(f\"  Weighted average of gonio angles (reversed): {gonio_avg_rev:.5f} +/- {gonio_avg_rev_err:.5f} degrees, Chi2: {gonio_avg_rev_chi2:.5f}, p: {gonio_avg_rev_p:.5f}\")"
   ]
  },
  {
   "cell_type": "code",
   "execution_count": 19,
   "metadata": {},
   "outputs": [
    {
     "name": "stdout",
     "output_type": "stream",
     "text": [
      "  Weighted average of gonio angles (normal): 14.76452 +/- 0.07620 degrees, Chi2: 14.72760, p: 0.06466\n",
      "  Weighted average of gonio angles (reversed): 14.96667 +/- 0.07947 degrees, Chi2: 258.90741, p: 0.00000\n"
     ]
    }
   ],
   "source": [
    "#add systematic error to gonio measurements\n",
    "diffs_norm = []\n",
    "diffs_rev = []\n",
    "\n",
    "for i in range(len(norm)):\n",
    "    for n in range(len(norm)):\n",
    "        diffs_norm.append(err_norm[i]-err_norm[n])\n",
    "        diffs_rev.append(err_rev[i]-err_rev[n])\n",
    "\n",
    "diff_norm = np.abs(np.array(diffs_norm))\n",
    "diff_rev = np.abs(np.array(diffs_rev))\n",
    "\n",
    "gonio_avg_norm, gonio_avg_norm_err, gonio_avg_norm_chi2, gonio_avg_norm_p = weighted_average(norm, err_norm+diff_norm.max())\n",
    "gonio_avg_rev, gonio_avg_rev_err, gonio_avg_rev_chi2, gonio_avg_rev_p = weighted_average(rev, err_rev+diff_rev.max())\n",
    "print(f\"  Weighted average of gonio angles (normal): {gonio_avg_norm:.5f} +/- {gonio_avg_norm_err:.5f} degrees, Chi2: {gonio_avg_norm_chi2:.5f}, p: {gonio_avg_norm_p:.5f}\")\n",
    "print(f\"  Weighted average of gonio angles (reversed): {gonio_avg_rev:.5f} +/- {gonio_avg_rev_err:.5f} degrees, Chi2: {gonio_avg_rev_chi2:.5f}, p: {gonio_avg_rev_p:.5f}\")"
   ]
  },
  {
   "cell_type": "code",
   "execution_count": 20,
   "metadata": {},
   "outputs": [
    {
     "name": "stdout",
     "output_type": "stream",
     "text": [
      "  Delta angle from flipping setup: 0.10108 +/- 0.05505 degrees\n"
     ]
    }
   ],
   "source": [
    "#angle of table to ground by flipping setup \n",
    "delta_ang_flip = abs((gonio_avg_rev-gonio_avg_norm)/2)\n",
    "delta_ang_flip_err = np.sqrt((gonio_avg_norm_err/2)**2+(gonio_avg_rev_err/2)**2)\n",
    "print(f\"  Delta angle from flipping setup: {delta_ang_flip:.5f} +/- {delta_ang_flip_err:.5f} degrees\")"
   ]
  },
  {
   "cell_type": "markdown",
   "metadata": {},
   "source": [
    "### Justify not using Elloise's gonio measurements"
   ]
  },
  {
   "cell_type": "code",
   "execution_count": 21,
   "metadata": {},
   "outputs": [
    {
     "data": {
      "image/png": "[encoded data removed]",
      "text/plain": [
       "<Figure size 432x288 with 1 Axes>"
      ]
     },
     "metadata": {},
     "output_type": "display_data"
    }
   ],
   "source": [
    "#scatter plot of our gonio measurements\n",
    "gonio_full = np.genfromtxt('gonio.dat', delimiter=',', names=('norm', 'err_norm', 'rev', 'err_rev'))\n",
    "norm_full, err_norm_full, rev_full, err_rev_full = gonio_full['norm'], gonio_full['err_norm'], gonio_full['rev'], gonio_full['err_rev']\n",
    "\n",
    "distances = []\n",
    "for i in [-2,-1]:\n",
    "    distances.append(np.round(abs(norm_full[i]-norm_full.mean())/norm_full.std(),3))\n",
    "    distances.append(np.round(abs(rev_full[i]-rev_full.mean())/rev_full.std(),3))\n",
    "\n",
    "x = np.linspace(1, len(norm_full), len(norm_full))\n",
    "\n",
    "d = {'Outlier distance 1 (sigma):': distances[0],\n",
    "     'Outlier distance 2 (sigma):': distances[1],\n",
    "     'Outlier distance 3 (sigma):': distances[2],\n",
    "     'Outlier distance 4 (sigma):': distances[3]}\n",
    "\n",
    "fig, ax = plt.subplots(1)\n",
    "ax.errorbar(x, norm_full, yerr=err_norm_full, fmt='b.', label='Normal setup', capsize=3)\n",
    "ax.errorbar(x, rev_full, yerr=err_rev_full, fmt='r.', label='Reversed setup', capsize=3)\n",
    "ax.set_title('Gonio measurements', fontsize=18)\n",
    "ax.set_xlabel('Index', fontsize=18)\n",
    "ax.set_ylabel('Angle (degrees)', fontsize=18)\n",
    "text = nice_string_output(d, extra_spacing=2, decimals=3)\n",
    "add_text_to_ax(0.02, 0.35, text, ax, fontsize=10)\n",
    "ax.legend();\n",
    "\n",
    "# fig.savefig('Gonio outliers.png')"
   ]
  },
  {
   "cell_type": "markdown",
   "metadata": {},
   "source": [
    "# Combine delta angle results"
   ]
  },
  {
   "cell_type": "code",
   "execution_count": 22,
   "metadata": {},
   "outputs": [
    {
     "name": "stdout",
     "output_type": "stream",
     "text": [
      "Weighted average of delta angle: 0.16977 +/- 0.04619 m/s^2, chi2: 5.26025, p: 0.07207\n"
     ]
    }
   ],
   "source": [
    "#weighted average of delta angle from diff in acc and from flipping setup\n",
    "final_delta_ang, final_delta_ang_err, final_delta_ang_chi2, final_delta_ang_p = weighted_average(np.array([delta_ang_flip,delta_ang_acc]), np.array([delta_ang_flip_err, delta_ang_acc_err]))\n",
    "print(f\"Weighted average of delta angle: {final_delta_ang:.5f} +/- {final_delta_ang_err:.5f} m/s^2, chi2: {final_delta_ang_chi2:.5f}, p: {final_delta_ang_p:.5f}\")"
   ]
  },
  {
   "cell_type": "markdown",
   "metadata": {},
   "source": [
    "# Combine measurements of rail width"
   ]
  },
  {
   "cell_type": "code",
   "execution_count": 23,
   "metadata": {},
   "outputs": [
    {
     "name": "stdout",
     "output_type": "stream",
     "text": [
      "  Weighted average of rail width measurements: 0.00603 +/- 0.00006 m, Chi2: 0.69605, p: 0.98318\n"
     ]
    }
   ],
   "source": [
    "#load and average rail width measurements\n",
    "rail = np.genfromtxt('rail_width.dat', delimiter=',', names=('width', 'err'))\n",
    "rail_width, rail_width_err = rail['width'], rail['err']\n",
    "\n",
    "rail_width_avg, rail_width_avg_err, rail_width_avg_chi2, rail_width_avg_p = weighted_average(rail_width, rail_width_err)\n",
    "print(f\"  Weighted average of rail width measurements: {rail_width_avg:.5f} +/- {rail_width_avg_err:.5f} m, Chi2: {rail_width_avg_chi2:.5f}, p: {rail_width_avg_p:.5f}\")"
   ]
  },
  {
   "cell_type": "markdown",
   "metadata": {},
   "source": [
    "# Diameter of ball (measured by Troels)"
   ]
  },
  {
   "cell_type": "code",
   "execution_count": 24,
   "metadata": {},
   "outputs": [
    {
     "name": "stdout",
     "output_type": "stream",
     "text": [
      " Diameter of ball (measured by Troels): 0.01271 +/- 0.00010 m\n"
     ]
    }
   ],
   "source": [
    "ball = 0.01271\n",
    "ball_err = 0.0001 #my estimate of the precision\n",
    "print(f\" Diameter of ball (measured by Troels): {ball:.5f} +/- {ball_err:.5f} m\")"
   ]
  },
  {
   "cell_type": "markdown",
   "metadata": {},
   "source": [
    "# Combine everything"
   ]
  },
  {
   "cell_type": "code",
   "execution_count": 25,
   "metadata": {},
   "outputs": [],
   "source": [
    "# #take derivaties of g\n",
    "# a,t,dt,D,d = sp.symbols(\"a, t, dt, D, d\")\n",
    "# g_norm = (a/sp.sin(t-dt))*(1+((2/5)*D**2/(D**2-d**2)))\n",
    "# g_rev = (a/sp.sin(t+dt))*(1+((2/5)*D**2/(D**2-d**2)))\n",
    "# (g_rev.diff(d))**2"
   ]
  },
  {
   "cell_type": "code",
   "execution_count": 26,
   "metadata": {},
   "outputs": [],
   "source": [
    "# (g_norm.diff(d))**2"
   ]
  },
  {
   "cell_type": "code",
   "execution_count": 27,
   "metadata": {},
   "outputs": [],
   "source": [
    "#define final values\n",
    "a_norm = acc_avg_norm\n",
    "a_rev = acc_avg_rev\n",
    "t = trig_ang * np.pi/180\n",
    "dt = final_delta_ang * np.pi/180\n",
    "D = ball\n",
    "d = rail_width_avg\n",
    "\n",
    "g_norm = (a_norm/np.sin(t-dt))*(1+((2/5)*D**2/(D**2-d**2)))\n",
    "g_rev = (a_rev/np.sin(t+dt))*(1+((2/5)*D**2/(D**2-d**2)))"
   ]
  },
  {
   "cell_type": "code",
   "execution_count": 28,
   "metadata": {},
   "outputs": [
    {
     "name": "stdout",
     "output_type": "stream",
     "text": [
      "  g for normal setup: 9.67025 +/- 0.08037 m/s^2\n"
     ]
    }
   ],
   "source": [
    "#error propagation for normal setup\n",
    "a_diff_norm = -(((0.4*D**2)/(D**2-d**2)+1)/np.sin(dt-t))\n",
    "t_diff_norm = -(a_norm*((0.4*D**2)/(D**2-d**2)+1)*np.cos(dt-t)/np.sin(dt-t)**2)\n",
    "dt_diff_norm = a_norm*((0.4*D**2)/(D**2-d**2)+1)*np.cos(dt-t)/np.sin(dt-t)**2\n",
    "d_diff_norm = -((0.8*D**2*a_norm*d)/((D**2-d**2)*np.sin(dt-t)))\n",
    "D_diff_norm = -((a_norm*(-(0.8*D**3/(D**2-d**2)**2)+(0.8*D/(D**2-d**2))))/np.sin(dt-t))\n",
    "\n",
    "a_imp_norm = a_diff_norm**2 * acc_avg_norm_err**2\n",
    "t_imp_norm = t_diff_norm**2 * (trig_ang_err*np.pi/180)**2\n",
    "dt_imp_norm = dt_diff_norm**2 * (final_delta_ang_err*np.pi/180)**2\n",
    "d_imp_norm = d_diff_norm**2 * rail_width_avg_err**2\n",
    "D_imp_norm = D_diff_norm**2 * ball_err**2\n",
    "\n",
    "g_norm_err = np.sqrt(a_imp_norm + t_imp_norm + dt_imp_norm + d_imp_norm + D_imp_norm)\n",
    "print(f\"  g for normal setup: {g_norm:.5f} +/- {g_norm_err:.5f} m/s^2\")"
   ]
  },
  {
   "cell_type": "code",
   "execution_count": 29,
   "metadata": {},
   "outputs": [
    {
     "name": "stdout",
     "output_type": "stream",
     "text": [
      "  g for reversed setup: 9.87247 +/- 0.08189 m/s^2\n"
     ]
    }
   ],
   "source": [
    "#error propagation for reversed setup\n",
    "a_diff_rev = ((0.4*D**2)/(D**2-d**2)+1)/np.sin(dt+t)\n",
    "t_diff_rev = -(a_rev*((0.4*D**2)/(D**2-d**2)+1)*np.cos(dt+t)/np.sin(dt+t)**2)\n",
    "dt_diff_rev = -(a_rev*((0.4*D**2)/(D**2-d**2)+1)*np.cos(dt+t)/np.sin(dt+t)**2)\n",
    "d_diff_rev = (0.8*D**2*a_rev*d)/((D**2-d**2)*np.sin(dt+t))\n",
    "D_diff_rev = (a_rev*(-(0.8*D**3/(D**2-d**2)**2)+(0.8*D/(D**2-d**2))))/np.sin(dt+t)\n",
    "\n",
    "a_imp_rev = a_diff_rev**2 * acc_avg_rev_err**2\n",
    "t_imp_rev = t_diff_rev**2 * (trig_ang_err*np.pi/180)**2\n",
    "dt_imp_rev = dt_diff_rev**2 * (final_delta_ang_err*np.pi/180)**2\n",
    "d_imp_rev = d_diff_rev**2 * rail_width_avg_err**2\n",
    "D_imp_rev = D_diff_rev**2 * ball_err**2\n",
    "\n",
    "g_rev_err = np.sqrt(a_imp_rev + t_imp_rev + dt_imp_rev + d_imp_rev + D_imp_rev)\n",
    "print(f\"  g for reversed setup: {g_rev:.5f} +/- {g_rev_err:.5f} m/s^2\")"
   ]
  },
  {
   "cell_type": "code",
   "execution_count": 30,
   "metadata": {},
   "outputs": [
    {
     "name": "stdout",
     "output_type": "stream",
     "text": [
      "  Weighted average of g: 9.76947 +/- 0.05736 m, Chi2: 3.10591, p: 0.21162\n"
     ]
    }
   ],
   "source": [
    "#weighted mean of g for normal and reversed setup\n",
    "g_final, g_final_err, g_final_chi2, g_final_p = weighted_average(np.array([g_norm,g_rev]), np.array([g_norm_err, g_rev_err]))\n",
    "print(f\"  Weighted average of g: {g_final:.5f} +/- {g_final_err:.5f} m, Chi2: {g_final_chi2:.5f}, p: {g_final_p:.5f}\")"
   ]
  },
  {
   "cell_type": "code",
   "execution_count": 31,
   "metadata": {},
   "outputs": [
    {
     "data": {
      "text/html": [
       "<div>\n",
       "<style scoped>\n",
       "    .dataframe tbody tr th:only-of-type {\n",
       "        vertical-align: middle;\n",
       "    }\n",
       "\n",
       "    .dataframe tbody tr th {\n",
       "        vertical-align: top;\n",
       "    }\n",
       "\n",
       "    .dataframe thead th {\n",
       "        text-align: right;\n",
       "    }\n",
       "</style>\n",
       "<table border=\"1\" class=\"dataframe\">\n",
       "  <thead>\n",
       "    <tr style=\"text-align: right;\">\n",
       "      <th></th>\n",
       "      <th>Acceleration</th>\n",
       "      <th>Incline angle</th>\n",
       "      <th>Table angle</th>\n",
       "      <th>Diameter rail</th>\n",
       "      <th>Diameter ball</th>\n",
       "    </tr>\n",
       "  </thead>\n",
       "  <tbody>\n",
       "    <tr>\n",
       "      <th>Normal</th>\n",
       "      <td>0.073509</td>\n",
       "      <td>0.003282</td>\n",
       "      <td>0.028613</td>\n",
       "      <td>0.000002</td>\n",
       "      <td>0.015050</td>\n",
       "    </tr>\n",
       "    <tr>\n",
       "      <th>Reversed</th>\n",
       "      <td>0.075130</td>\n",
       "      <td>0.003274</td>\n",
       "      <td>0.028543</td>\n",
       "      <td>0.000002</td>\n",
       "      <td>0.015365</td>\n",
       "    </tr>\n",
       "  </tbody>\n",
       "</table>\n",
       "</div>"
      ],
      "text/plain": [
       "          Acceleration  Incline angle  Table angle  Diameter rail  \\\n",
       "Normal        0.073509       0.003282     0.028613       0.000002   \n",
       "Reversed      0.075130       0.003274     0.028543       0.000002   \n",
       "\n",
       "          Diameter ball  \n",
       "Normal         0.015050  \n",
       "Reversed       0.015365  "
      ]
     },
     "execution_count": 31,
     "metadata": {},
     "output_type": "execute_result"
    }
   ],
   "source": [
    "#impact from variables\n",
    "df = pd.DataFrame({'Acceleration': np.sqrt(np.array([a_imp_norm, a_imp_rev])),\n",
    "                   'Incline angle': np.sqrt(np.array([t_imp_norm, t_imp_rev])),\n",
    "                   'Table angle': np.sqrt(np.array([dt_imp_norm, dt_imp_rev])),\n",
    "                   'Diameter rail': np.sqrt(np.array([d_imp_norm, d_imp_rev])),\n",
    "                   'Diameter ball': np.sqrt(np.array([D_imp_norm, D_imp_rev]))},\n",
    "                    index=['Normal', 'Reversed'])\n",
    "\n",
    "df"
   ]
  }
 ],
 "metadata": {
  "kernelspec": {
   "display_name": "Python 3 (ipykernel)",
   "language": "python",
   "name": "python3"
  },
  "language_info": {
   "codemirror_mode": {
    "name": "ipython",
    "version": 3
   },
   "file_extension": ".py",
   "mimetype": "text/x-python",
   "name": "python",
   "nbconvert_exporter": "python",
   "pygments_lexer": "ipython3",
   "version": "3.9.7"
  }
 },
 "nbformat": 4,
 "nbformat_minor": 2
}
